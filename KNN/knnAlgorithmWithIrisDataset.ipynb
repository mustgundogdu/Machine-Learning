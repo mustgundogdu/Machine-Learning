{
 "cells": [
  {
   "cell_type": "code",
   "execution_count": 6,
   "id": "f69629ae",
   "metadata": {},
   "outputs": [
    {
     "name": "stdout",
     "output_type": "stream",
     "text": [
      "The optimal number of neighbor is 1\n"
     ]
    },
    {
     "data": {
      "image/png": "[encoded data removed]",
      "text/plain": [
       "<Figure size 432x288 with 1 Axes>"
      ]
     },
     "metadata": {
      "needs_background": "light"
     },
     "output_type": "display_data"
    }
   ],
   "source": [
    "import numpy as np\n",
    "import matplotlib.pyplot as plt\n",
    "import pandas as pd\n",
    "import numpy as np\n",
    "from sklearn.model_selection import train_test_split\n",
    "# Create Data set\n",
    "names = [\n",
    "    'sepal_length',\n",
    "    'sepal_width',\n",
    "    'petal_length',\n",
    "    'petal_width',\n",
    "    'class',\n",
    "]\n",
    "\n",
    "class PreliminaryForData:\n",
    "    \"\"\" Load Data from csv \"\"\"\n",
    "    def __init__(self):\n",
    "        df = pd.read_csv('iris.data.txt', header=None, names=names)\n",
    "        df.head()\n",
    "    \n",
    "        self.X = np.array(df.iloc[:,0:4])\n",
    "        self.y = np.array(df['class'])\n",
    "    \n",
    "    def SplitAndTrainData(self):\n",
    "        X_train, \\\n",
    "        X_test, \\\n",
    "        y_train, \\\n",
    "        y_test = train_test_split(self.X, self.y, test_size=0.33, random_state = 42)\n",
    "        self.knnAlgorithm(X_train, X_test, y_train, y_test)\n",
    "        \n",
    "    def knnAlgorithm(self,X_train, X_test, y_train, y_test):\n",
    "        \"\"\" KNN \"\"\"\n",
    "        from sklearn.neighbors import KNeighborsClassifier\n",
    "        from sklearn.metrics import accuracy_score\n",
    "        \n",
    "        # Instantiate learning model (k = 3)\n",
    "        knn = KNeighborsClassifier(n_neighbors = 3)\n",
    "        # Fitting The Model\n",
    "        knn.fit(X_train, y_train)\n",
    "        # Predict The Response\n",
    "        pred = knn.predict(X_test)\n",
    "        \n",
    "        from sklearn.model_selection import cross_val_score\n",
    "        neighbors = list(range(1, 50, 2))\n",
    "        cv_scores = []\n",
    "        \n",
    "        for k in neighbors:\n",
    "            knn = KNeighborsClassifier(n_neighbors = k)\n",
    "            scores = cross_val_score(knn, X_train, y_train, cv = 10, scoring = 'accuracy')\n",
    "            cv_scores.append(scores.mean())\n",
    "            \n",
    "        mse = [1 - x for x in cv_scores]\n",
    "        optimal_k = neighbors[mse.index(min(mse))]\n",
    "        \n",
    "        print(\"The optimal number of neighbor is {}\".format(optimal_k))\n",
    "\n",
    "        plt.plot(neighbors, mse)\n",
    "        plt.xlabel(\"Number of Neighbors K\")\n",
    "        plt.ylabel(\"Misclassification Error\")\n",
    "        plt.show()\n",
    "        \n",
    "        \n",
    "k = PreliminaryForData()\n",
    "k.SplitAndTrainData()\n"
   ]
  },
  {
   "cell_type": "code",
   "execution_count": null,
   "id": "73e4877c",
   "metadata": {},
   "outputs": [],
   "source": []
  }
 ],
 "metadata": {
  "kernelspec": {
   "display_name": "Python 3",
   "language": "python",
   "name": "python3"
  },
  "language_info": {
   "codemirror_mode": {
    "name": "ipython",
    "version": 3
   },
   "file_extension": ".py",
   "mimetype": "text/x-python",
   "name": "python",
   "nbconvert_exporter": "python",
   "pygments_lexer": "ipython3",
   "version": "3.8.8"
  }
 },
 "nbformat": 4,
 "nbformat_minor": 5
}
