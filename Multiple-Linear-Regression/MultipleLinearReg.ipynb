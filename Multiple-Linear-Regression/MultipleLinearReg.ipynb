{
 "cells": [
  {
   "cell_type": "code",
   "execution_count": 23,
   "id": "b9a27414",
   "metadata": {},
   "outputs": [
    {
     "name": "stdout",
     "output_type": "stream",
     "text": [
      "[[ 2125.16352808]\n",
      " [17783.80705803]\n",
      " [ 3732.15009423]\n",
      " [-1453.80132424]\n",
      " [29006.37575652]\n",
      " [18686.13003853]\n",
      " [32610.17590795]\n",
      " [ 1659.86708885]\n",
      " [20149.59099274]\n",
      " [ 8251.1726371 ]]\n",
      "[[ 2125.16352808]\n",
      " [17783.80705803]\n",
      " [ 3732.15009423]\n",
      " [-1453.80132424]\n",
      " [29006.37575652]\n",
      " [18686.13003853]\n",
      " [32610.17590795]\n",
      " [ 1659.86708885]\n",
      " [20149.59099274]\n",
      " [ 8251.1726371 ]]\n"
     ]
    }
   ],
   "source": [
    "import numpy as np\n",
    "import matplotlib.pyplot as plt\n",
    "import pandas as pd\n",
    "from sklearn.metrics import r2_score \n",
    "from sklearn.linear_model import LinearRegression\n",
    "from sklearn.model_selection import train_test_split\n",
    "    \n",
    "    \n",
    "class MultipleLinearReg:\n",
    "    \"\"\"Multiple Linear Regression Class \"\"\"\n",
    "\n",
    "    def __init__(self):\n",
    "        self.datacsv = pd.read_csv('newsalary.csv')\n",
    "        \n",
    "        #Independent Variables\n",
    "        Score = self.datacsv[['Puan']]\n",
    "        Seniority = self.datacsv[['Kidem']]\n",
    "        DegreeLevel = self.datacsv[['UnvanSeviyesi']]\n",
    "        # Dependent variable\n",
    "        self.Salary = self.datacsv[['maas']]\n",
    "        self.resultConcat = pd.concat([Score, Seniority, DegreeLevel], axis=1)\n",
    "        self.linearReg = LinearRegression()\n",
    "        self.TrainMultData()\n",
    "    def TrainMultData(self):\n",
    "        x_train, \\\n",
    "        x_test, \\\n",
    "        y_train, \\\n",
    "        y_test = train_test_split(self.resultConcat, self.Salary, test_size=0.33, random_state=0)\n",
    "        \n",
    "        self.linearReg.fit(x_train, y_train)\n",
    "        # Predict \n",
    "        PredictionMult = self.linearReg.predict(x_test)\n",
    "        print(PredictionMult)\n",
    "        \n",
    "\n",
    "lr = MultipleLinearReg()\n",
    "lr.__init__()"
   ]
  },
  {
   "cell_type": "code",
   "execution_count": null,
   "id": "5eff431f",
   "metadata": {},
   "outputs": [],
   "source": []
  },
  {
   "cell_type": "code",
   "execution_count": null,
   "id": "40ad7c5e",
   "metadata": {},
   "outputs": [],
   "source": []
  }
 ],
 "metadata": {
  "kernelspec": {
   "display_name": "Python 3",
   "language": "python",
   "name": "python3"
  },
  "language_info": {
   "codemirror_mode": {
    "name": "ipython",
    "version": 3
   },
   "file_extension": ".py",
   "mimetype": "text/x-python",
   "name": "python",
   "nbconvert_exporter": "python",
   "pygments_lexer": "ipython3",
   "version": "3.8.8"
  }
 },
 "nbformat": 4,
 "nbformat_minor": 5
}
