{
 "cells": [
  {
   "cell_type": "code",
   "execution_count": 20,
   "id": "d948b130",
   "metadata": {},
   "outputs": [
    {
     "data": {
      "image/png": "[encoded data removed]",
      "text/plain": [
       "<Figure size 432x288 with 1 Axes>"
      ]
     },
     "metadata": {
      "needs_background": "light"
     },
     "output_type": "display_data"
    }
   ],
   "source": [
    "import numpy as np\n",
    "import matplotlib.pyplot as plt\n",
    "import pandas as pd\n",
    "from sklearn.metrics import r2_score\n",
    "from sklearn.linear_model import LinearRegression\n",
    "\n",
    "class SupportVectorMachine:\n",
    "    \n",
    "    def __init__(self):\n",
    "        \n",
    "        self.svrD = self.SupportVectorReg()\n",
    "    def LoadDataCsv(self):\n",
    "        #\n",
    "        datacsv = pd.read_csv('newsalary.csv')\n",
    "        Score = datacsv[['Puan']]\n",
    "        Salary = datacsv[['maas']]\n",
    "        X = Score.values\n",
    "        y = Salary.values\n",
    "        self.svrD.DataSplit(X, y)\n",
    "    \n",
    "            \n",
    "    class SupportVectorReg:\n",
    "                     \n",
    "        def DataSplit(self, X, y):   \n",
    "            from sklearn.model_selection import train_test_split\n",
    "            self.x_train, self.x_test, self.y_train, self.y_test = train_test_split(X, y, test_size=0.33, random_state=0)\n",
    "            self.linearReg = LinearRegression()\n",
    "            self.DataScaling()\n",
    "            \n",
    "        def DataScaling(self):\n",
    "            from sklearn.preprocessing import StandardScaler\n",
    "            scaleData = StandardScaler()\n",
    "            # Independent Variable scale\n",
    "            Xscalter = scaleData.fit_transform(self.x_train)\n",
    "            # Scale object 2\n",
    "            scaleData1 = StandardScaler()\n",
    "            Yscalter = np.ravel(scaleData1.fit_transform(self.y_train.reshape(-2, 2)))\n",
    "            self.supportVector(Xscalter, Yscalter)\n",
    "            \n",
    "        def supportVector(self, Xscalter, Yscalter):\n",
    "            from sklearn.svm import SVR\n",
    "            supportReg = SVR(kernel = 'rbf')\n",
    "            supportReg.fit(Xscalter, Yscalter)\n",
    "            plt.scatter(Xscalter, Yscalter, color = 'red')\n",
    "            plt.plot(Xscalter, supportReg.predict(Xscalter), color='blue')\n",
    "            plt.show()\n",
    "            \n",
    "            \n",
    "svrO = SupportVectorMachine()\n",
    "svrO.LoadDataCsv()"
   ]
  },
  {
   "cell_type": "code",
   "execution_count": null,
   "id": "ccd06de8",
   "metadata": {},
   "outputs": [],
   "source": []
  }
 ],
 "metadata": {
  "kernelspec": {
   "display_name": "Python 3",
   "language": "python",
   "name": "python3"
  },
  "language_info": {
   "codemirror_mode": {
    "name": "ipython",
    "version": 3
   },
   "file_extension": ".py",
   "mimetype": "text/x-python",
   "name": "python",
   "nbconvert_exporter": "python",
   "pygments_lexer": "ipython3",
   "version": "3.8.8"
  }
 },
 "nbformat": 4,
 "nbformat_minor": 5
}
