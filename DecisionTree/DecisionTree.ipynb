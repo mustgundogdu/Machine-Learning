{
 "cells": [
  {
   "cell_type": "code",
   "execution_count": 2,
   "id": "c2fefa65",
   "metadata": {},
   "outputs": [
    {
     "ename": "NameError",
     "evalue": "name 'TreeRegressor' is not defined",
     "output_type": "error",
     "traceback": [
      "\u001b[0;31m---------------------------------------------------------------------------\u001b[0m",
      "\u001b[0;31mNameError\u001b[0m                                 Traceback (most recent call last)",
      "\u001b[0;32m<ipython-input-2-418966f3c3c1>\u001b[0m in \u001b[0;36m<module>\u001b[0;34m\u001b[0m\n\u001b[1;32m     41\u001b[0m \u001b[0;34m\u001b[0m\u001b[0m\n\u001b[1;32m     42\u001b[0m \u001b[0;34m\u001b[0m\u001b[0m\n\u001b[0;32m---> 43\u001b[0;31m \u001b[0mdecO\u001b[0m \u001b[0;34m=\u001b[0m \u001b[0mDecisionTree\u001b[0m\u001b[0;34m(\u001b[0m\u001b[0;34m)\u001b[0m\u001b[0;34m\u001b[0m\u001b[0;34m\u001b[0m\u001b[0m\n\u001b[0m\u001b[1;32m     44\u001b[0m \u001b[0mdecO\u001b[0m\u001b[0;34m.\u001b[0m\u001b[0mLoadCsvData\u001b[0m\u001b[0;34m(\u001b[0m\u001b[0;34m)\u001b[0m\u001b[0;34m\u001b[0m\u001b[0;34m\u001b[0m\u001b[0m\n",
      "\u001b[0;32m<ipython-input-2-418966f3c3c1>\u001b[0m in \u001b[0;36m__init__\u001b[0;34m(self)\u001b[0m\n\u001b[1;32m      7\u001b[0m \u001b[0;32mclass\u001b[0m \u001b[0mDecisionTree\u001b[0m\u001b[0;34m:\u001b[0m\u001b[0;34m\u001b[0m\u001b[0;34m\u001b[0m\u001b[0m\n\u001b[1;32m      8\u001b[0m     \u001b[0;32mdef\u001b[0m \u001b[0m__init__\u001b[0m\u001b[0;34m(\u001b[0m\u001b[0mself\u001b[0m\u001b[0;34m)\u001b[0m\u001b[0;34m:\u001b[0m\u001b[0;34m\u001b[0m\u001b[0;34m\u001b[0m\u001b[0m\n\u001b[0;32m----> 9\u001b[0;31m         \u001b[0mself\u001b[0m\u001b[0;34m.\u001b[0m\u001b[0mdtr\u001b[0m \u001b[0;34m=\u001b[0m \u001b[0mTreeRegressor\u001b[0m\u001b[0;34m(\u001b[0m\u001b[0;34m)\u001b[0m\u001b[0;34m\u001b[0m\u001b[0;34m\u001b[0m\u001b[0m\n\u001b[0m\u001b[1;32m     10\u001b[0m \u001b[0;34m\u001b[0m\u001b[0m\n\u001b[1;32m     11\u001b[0m     \u001b[0;32mdef\u001b[0m \u001b[0mLoadCsvData\u001b[0m\u001b[0;34m(\u001b[0m\u001b[0mself\u001b[0m\u001b[0;34m)\u001b[0m\u001b[0;34m:\u001b[0m\u001b[0;34m\u001b[0m\u001b[0;34m\u001b[0m\u001b[0m\n",
      "\u001b[0;31mNameError\u001b[0m: name 'TreeRegressor' is not defined"
     ]
    }
   ],
   "source": [
    "import numpy as np\n",
    "import matplotlib.pyplot as plt\n",
    "import pandas as pd\n",
    "from sklearn.metrics import r2_score\n",
    "from sklearn.linear_model import LinearRegression\n",
    "\n",
    "class DecisionTree:\n",
    "    def __init__(self):\n",
    "        self.dtr = TreeRegressor()\n",
    "        \n",
    "    def LoadCsvData(self):\n",
    "        datacsv = pd.read_csv('newsalary.csv')\n",
    "        # Independent variable (score)\n",
    "        Score = datacsv[['Puan']]\n",
    "        #dependent varaible (salary)\n",
    "        Salary = datacsv[['maas']]\n",
    "        X = Score.values\n",
    "        y = Salary.values\n",
    "        self.dtr.DataSplit(X, y)\n",
    "        \n",
    "    class TreeRegressor:\n",
    "        \n",
    "        def DataSplit(self, X, y):\n",
    "            from sklearn.model_selection import train_test_split\n",
    "            x_train, x_test, y_train, y_test = train_test_split(X, y, test_size=0.33, random_state=0)\n",
    "            \n",
    "            self.DecisionRegressor(x_train, y_train)\n",
    "        def DecisionRegressor(self, x_train, y_train):\n",
    "            from sklearn.tree import DecisionTreeRegressor\n",
    "            decisionReg = DecisionTreeRegressor(random_state=0)\n",
    "            decisionReg.fit(x_train, y_train)\n",
    "            \n",
    "            Z = x_train + 0.5\n",
    "            K = x_train - 0.4\n",
    "            \n",
    "            plt.scatter(x_train, y_train, color='red')\n",
    "            plt.plot(x_train, decisionReg.predict(X), color = 'blue')\n",
    "            plt.plot(x_train, decisionReg.predict(Z), color = 'green')\n",
    "            plt.plot(x_train, decisionReg.predict(K), color = 'yellow')\n",
    "            plt.show()\n",
    "            \n",
    "          \n",
    "decO = DecisionTree()\n",
    "decO.LoadCsvData()"
   ]
  },
  {
   "cell_type": "code",
   "execution_count": null,
   "id": "92fac520",
   "metadata": {},
   "outputs": [],
   "source": []
  }
 ],
 "metadata": {
  "kernelspec": {
   "display_name": "Python 3",
   "language": "python",
   "name": "python3"
  },
  "language_info": {
   "codemirror_mode": {
    "name": "ipython",
    "version": 3
   },
   "file_extension": ".py",
   "mimetype": "text/x-python",
   "name": "python",
   "nbconvert_exporter": "python",
   "pygments_lexer": "ipython3",
   "version": "3.8.8"
  }
 },
 "nbformat": 4,
 "nbformat_minor": 5
}
